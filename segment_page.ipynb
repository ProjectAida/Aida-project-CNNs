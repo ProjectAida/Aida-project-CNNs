{
 "cells": [
  {
   "cell_type": "code",
   "execution_count": null,
   "metadata": {},
   "outputs": [],
   "source": [
    "import os\n",
    "import shutil\n",
    "\n",
    "import jpype.imports\n",
    "\n",
    "from glob import glob\n",
    "from jpype import startJVM, shutdownJVM, java, addClassPath, JClass, JInt\n",
    "\n",
    "startJVM(classpath='bin', convertStrings=False)"
   ]
  },
  {
   "cell_type": "markdown",
   "metadata": {},
   "source": [
    "Type the file path to a list of your newspaper pages"
   ]
  },
  {
   "cell_type": "code",
   "execution_count": null,
   "metadata": {},
   "outputs": [],
   "source": [
    "newspaper_page_list = 'page_list.csv'"
   ]
  },
  {
   "cell_type": "markdown",
   "metadata": {},
   "source": [
    "Type the path to the parent folder which stores snippet image files"
   ]
  },
  {
   "cell_type": "code",
   "execution_count": null,
   "metadata": {},
   "outputs": [],
   "source": [
    "storage_path = 'snippets'"
   ]
  },
  {
   "cell_type": "markdown",
   "metadata": {},
   "source": [
    "The following script attempts to segment all pages"
   ]
  },
  {
   "cell_type": "code",
   "execution_count": null,
   "metadata": {},
   "outputs": [],
   "source": [
    "pages = []\n",
    "with open(newspaper_page_list, 'r') as f:\n",
    "    for lines in f:\n",
    "        pages.append(lines.strip())\n",
    "\n",
    "directory_path = 'Output_Snippets'\n",
    "if not os.path.exists(directory_path):\n",
    "    os.mkdir(directory_path)\n",
    "        \n",
    "for page in pages:\n",
    "    try:\n",
    "        _seg = JClass('execute/RunPageSegmentation')\n",
    "        obj = _seg.run_seg(page)\n",
    "    #     print(obj)\n",
    "    except Exception as err:\n",
    "        print(f\"Exception: {err}\")\n",
    "\n",
    "flist = [y for x in os.walk(directory_path) \n",
    "         for y in glob(os.path.join(x[0], '*.jpg'))]\n",
    "\n",
    "try:\n",
    "    if not os.path.exists(storage_path):\n",
    "        os.mkdir(storage_path)\n",
    "    \n",
    "    for f in flist:\n",
    "        shutil.copyfile(f, os.path.join(storage_path, os.path.basename(f)))\n",
    "        \n",
    "    shutil.rmtree(directory_path)\n",
    "except OSError:\n",
    "    print(\"Error occurred while deleting intermediate files.\")\n",
    "\n",
    "print(\"Page segmentation has been done.\")"
   ]
  },
  {
   "cell_type": "code",
   "execution_count": null,
   "metadata": {},
   "outputs": [],
   "source": []
  }
 ],
 "metadata": {
  "kernelspec": {
   "display_name": "Python [conda env:tf-gpu]",
   "language": "python",
   "name": "conda-env-tf-gpu-py"
  },
  "language_info": {
   "codemirror_mode": {
    "name": "ipython",
    "version": 3
   },
   "file_extension": ".py",
   "mimetype": "text/x-python",
   "name": "python",
   "nbconvert_exporter": "python",
   "pygments_lexer": "ipython3",
   "version": "3.7.6"
  }
 },
 "nbformat": 4,
 "nbformat_minor": 4
}
