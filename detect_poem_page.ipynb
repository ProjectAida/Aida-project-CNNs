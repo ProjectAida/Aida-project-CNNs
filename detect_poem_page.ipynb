{
 "cells": [
  {
   "cell_type": "code",
   "execution_count": null,
   "metadata": {},
   "outputs": [],
   "source": [
    "import os\n",
    "import shutil\n",
    "\n",
    "import jpype.imports\n",
    "\n",
    "from glob import glob\n",
    "from jpype import startJVM, shutdownJVM, java, addClassPath, JClass, JInt\n",
    "\n",
    "from datagen_image import run_test\n",
    "\n",
    "startJVM(classpath='bin', convertStrings=False)"
   ]
  },
  {
   "cell_type": "markdown",
   "metadata": {},
   "source": [
    "Select a model from:\n",
    "- LeNet-7 (le7)\n",
    "- LeNet-9 (le9)\n",
    "- ResNet-18 (res18)\n",
    "- ResNet-152 (res152)\n",
    "- EfficientNetB0 (efficientb0)"
   ]
  },
  {
   "cell_type": "code",
   "execution_count": null,
   "metadata": {},
   "outputs": [],
   "source": [
    "mod_name = 'le9'"
   ]
  },
  {
   "cell_type": "markdown",
   "metadata": {},
   "source": [
    "Type the file path to your newspaper page"
   ]
  },
  {
   "cell_type": "code",
   "execution_count": null,
   "metadata": {},
   "outputs": [],
   "source": [
    "path_to_newspaper_page = 'sn83035366_1836-02-12_ed-1_seq-4.jpg'"
   ]
  },
  {
   "cell_type": "markdown",
   "metadata": {},
   "source": [
    "Are you using a fine tuned model?"
   ]
  },
  {
   "cell_type": "code",
   "execution_count": null,
   "metadata": {},
   "outputs": [],
   "source": [
    "finetuned = False"
   ]
  },
  {
   "cell_type": "markdown",
   "metadata": {},
   "source": [
    "The following script attempts to detect poems in the newspaper page"
   ]
  },
  {
   "cell_type": "code",
   "execution_count": null,
   "metadata": {},
   "outputs": [],
   "source": [
    "directory_path = 'Output_Snippets'\n",
    "if not os.path.exists(directory_path):\n",
    "    os.mkdir(directory_path)\n",
    "    \n",
    "try:\n",
    "    _seg = JClass('execute/RunPageSegmentation')\n",
    "    obj = _seg.run_seg(path_to_newspaper_page)\n",
    "#     print(obj)\n",
    "except Exception as err:\n",
    "    print(f\"Exception: {err}\")\n",
    "\n",
    "flist = [y for x in os.walk(directory_path) \n",
    "         for y in glob(os.path.join(x[0], '*.jpg'))]\n",
    "        \n",
    "base_path = ''\n",
    "nClass = 2\n",
    "nEpoch = 100\n",
    "\n",
    "if finetuned:\n",
    "    model_path = 'pretrained_model/' + mod_name + '_aida17k_192_128_weights_finetune.h5'\n",
    "else:\n",
    "    model_path = 'pretrained_model/' + mod_name + '_aida17k_192_128_weights.h5'\n",
    "\n",
    "test_preds = run_test(flist,\n",
    "                      model_path, \n",
    "                      base_path,\n",
    "                      nClass, \n",
    "                      mod_name)\n",
    "\n",
    "try:\n",
    "    shutil.rmtree(directory_path)\n",
    "except OSError:\n",
    "    print(\"Error occurred while deleting intermediate files.\")\n",
    "\n",
    "print(\"Poem is detected on the page?\")\n",
    "print(1 in test_preds)"
   ]
  },
  {
   "cell_type": "code",
   "execution_count": null,
   "metadata": {},
   "outputs": [],
   "source": []
  }
 ],
 "metadata": {
  "kernelspec": {
   "display_name": "Python [conda env:tf-gpu]",
   "language": "python",
   "name": "conda-env-tf-gpu-py"
  },
  "language_info": {
   "codemirror_mode": {
    "name": "ipython",
    "version": 3
   },
   "file_extension": ".py",
   "mimetype": "text/x-python",
   "name": "python",
   "nbconvert_exporter": "python",
   "pygments_lexer": "ipython3",
   "version": "3.7.6"
  }
 },
 "nbformat": 4,
 "nbformat_minor": 4
}
